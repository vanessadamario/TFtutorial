{
 "cells": [
  {
   "cell_type": "markdown",
   "metadata": {},
   "source": [
    "# Simple TF tutorial"
   ]
  },
  {
   "cell_type": "code",
   "execution_count": 1,
   "metadata": {
    "collapsed": true,
    "nbpresent": {
     "id": "b3128549-a4fa-4cba-8e93-c60d88755452"
    }
   },
   "outputs": [],
   "source": [
    "import numpy as np\n",
    "import tensorflow as tf"
   ]
  },
  {
   "cell_type": "markdown",
   "metadata": {
    "nbpresent": {
     "id": "31acea87-b547-4ee0-a024-ae40d8edb77e"
    }
   },
   "source": [
    "## Tensors of different type\n",
    "\n",
    "** CONSTANT **"
   ]
  },
  {
   "cell_type": "code",
   "execution_count": null,
   "metadata": {
    "collapsed": false,
    "nbpresent": {
     "id": "317af56c-b586-4d4d-992f-81cf779d17c1"
    }
   },
   "outputs": [],
   "source": [
    "a = tf.constant(3.0, dtype=tf.float32)\n",
    "b = tf.constant(4.0) # also tf.float32 implicitly\n",
    "total = a + b"
   ]
  },
  {
   "cell_type": "code",
   "execution_count": null,
   "metadata": {
    "collapsed": false,
    "nbpresent": {
     "id": "4bfa60e0-8924-447e-b2b9-7bcf3ba082de"
    },
    "scrolled": true
   },
   "outputs": [],
   "source": [
    "print(a)\n",
    "print(b)\n",
    "print(total)"
   ]
  },
  {
   "cell_type": "markdown",
   "metadata": {
    "nbpresent": {
     "id": "bcf4f612-6fab-4c68-88f4-6e2415ceb5fd"
    }
   },
   "source": [
    "tf.Tensor only represents the operation that will be run  \n",
    "\n",
    "Each operation in the graph has its unique name. The name is independent from the name they have in python."
   ]
  },
  {
   "cell_type": "code",
   "execution_count": null,
   "metadata": {
    "collapsed": false,
    "nbpresent": {
     "id": "e6ce93e7-4985-4385-8be8-7d8eb18931e3"
    }
   },
   "outputs": [],
   "source": [
    "sess = tf.Session()  # you need to create a session and run the graph to see the values \n",
    "\n",
    "print(sess.run(a))\n",
    "print(sess.run(b))\n",
    "print(sess.run(total))"
   ]
  },
  {
   "cell_type": "code",
   "execution_count": null,
   "metadata": {
    "collapsed": false,
    "nbpresent": {
     "id": "c4d3f32a-878f-497e-a0b2-597421221837"
    }
   },
   "outputs": [],
   "source": [
    "print(sess.run({'a, b':(a, b), 'total':total}))  # you can evaluate more than one value at the same time"
   ]
  },
  {
   "cell_type": "markdown",
   "metadata": {
    "nbpresent": {
     "id": "d0330b23-ac95-4781-9a1a-6f2ac8d39eeb"
    }
   },
   "source": [
    "** PLACEHOLDERS **\n",
    "\n",
    "Super-useful in training, when you want to pass data to your minimization algorithm  \n",
    "\n",
    "You do not have to specify the dimension of placeholders"
   ]
  },
  {
   "cell_type": "code",
   "execution_count": null,
   "metadata": {
    "collapsed": true,
    "nbpresent": {
     "id": "cb950cd7-f209-4cc8-9d22-64081a2afb58"
    }
   },
   "outputs": [],
   "source": [
    "x = tf.placeholder(tf.float32)\n",
    "y = tf.placeholder(tf.float32)\n",
    "z = x + y"
   ]
  },
  {
   "cell_type": "markdown",
   "metadata": {
    "nbpresent": {
     "id": "03d1042e-d369-4d2f-af41-77403cc78260"
    }
   },
   "source": [
    "Again, these three lines are like functions. we need to feed them using numerical values, in order to compute the output z"
   ]
  },
  {
   "cell_type": "code",
   "execution_count": null,
   "metadata": {
    "collapsed": false,
    "nbpresent": {
     "id": "6eeed6fa-8a83-4775-a19d-aa587b095e00"
    }
   },
   "outputs": [],
   "source": [
    "print(sess.run(z, feed_dict={x: 3, y: 4.5}))\n",
    "print(sess.run(z, feed_dict={x: [1, 3], y: [2, 4]}))  # we can pass more than one value at the same time"
   ]
  },
  {
   "cell_type": "markdown",
   "metadata": {
    "nbpresent": {
     "id": "e923ea01-bd10-41a1-bb0b-28c3765b4c83"
    }
   },
   "source": [
    "** VARIABLES **\n",
    "\n",
    "Here the initialization is necessary"
   ]
  },
  {
   "cell_type": "code",
   "execution_count": null,
   "metadata": {
    "collapsed": false,
    "nbpresent": {
     "id": "abb00125-9220-42d1-869b-6ab0bb057fbc"
    }
   },
   "outputs": [],
   "source": [
    "wk = tf.Variable(tf.random_normal([10,1]))  "
   ]
  },
  {
   "cell_type": "markdown",
   "metadata": {
    "nbpresent": {
     "id": "4d376d12-9ae1-46f0-b20e-7a1a2d65630c"
    }
   },
   "source": [
    "we must give the initialization value during the declaration  \n",
    "\n",
    "**Suggestion: initialize just before running the graph!  ** \n",
    "\n",
    "global_variables_initializer only initializes variables that existed in the graph when the initializer was created. So the initializer should be one of the last things added during graph construction.\n",
    "\n",
    "the following command are necessary once you have defined you our graph"
   ]
  },
  {
   "cell_type": "code",
   "execution_count": null,
   "metadata": {
    "collapsed": false
   },
   "outputs": [],
   "source": [
    "sess = tf.Session()\n",
    "\n",
    "# sess.run(wk)  # it's not going to work"
   ]
  },
  {
   "cell_type": "code",
   "execution_count": null,
   "metadata": {
    "collapsed": false,
    "nbpresent": {
     "id": "60692e9b-65a4-4e37-b9e4-c92dcbe0d9b0"
    }
   },
   "outputs": [],
   "source": [
    "sess = tf.Session()\n",
    "\n",
    "init = tf.global_variables_initializer()\n",
    "sess.run(init)\n",
    "\n",
    "sess.run(wk)  # it's not going to work"
   ]
  },
  {
   "cell_type": "markdown",
   "metadata": {
    "nbpresent": {
     "id": "464987f0-3ee3-4856-9425-d628c8f3c789"
    }
   },
   "source": [
    "## Vanilla example: linear classifier"
   ]
  },
  {
   "cell_type": "code",
   "execution_count": 2,
   "metadata": {
    "collapsed": true,
    "nbpresent": {
     "id": "0c508bc2-1d5a-4496-b737-066826dc7b8f"
    }
   },
   "outputs": [],
   "source": [
    "import matplotlib.pyplot as plt\n",
    "\n",
    "%matplotlib inline"
   ]
  },
  {
   "cell_type": "markdown",
   "metadata": {},
   "source": [
    "### Our data set: the law generating the data"
   ]
  },
  {
   "cell_type": "code",
   "execution_count": 14,
   "metadata": {
    "collapsed": false,
    "nbpresent": {
     "id": "3330e41b-a296-42c7-9941-d512ae41642f"
    }
   },
   "outputs": [
    {
     "data": {
      "image/png": "[encoded data removed]",
      "text/plain": [
       "<matplotlib.figure.Figure at 0x118d5b510>"
      ]
     },
     "metadata": {},
     "output_type": "display_data"
    }
   ],
   "source": [
    "n = 1000    # samples\n",
    "d = 2      # features\n",
    "\n",
    "X = np.random.randn(n, d)  \n",
    "W = np.random.randn(d)\n",
    "Y = np.sign(X.dot(W))\n",
    "\n",
    "fig, ax = plt.subplots(figsize=(7,7))\n",
    "plt.scatter(X[:,0], X[:,1], color=[\"C0\" if Y[i]==1 else \"C1\" for i in range(n)])\n",
    "ax.set_xlabel(\"first component\", fontsize=\"xx-large\");\n",
    "ax.set_ylabel(\"second component\", fontsize=\"xx-large\");"
   ]
  },
  {
   "cell_type": "markdown",
   "metadata": {},
   "source": [
    "### Define placeholders, variable and stuff"
   ]
  },
  {
   "cell_type": "code",
   "execution_count": 15,
   "metadata": {
    "collapsed": false,
    "nbpresent": {
     "id": "18ffb928-f064-4cd8-a503-b33a1003a8fa"
    }
   },
   "outputs": [],
   "source": [
    "tf.reset_default_graph()\n",
    "\n",
    "x = tf.placeholder(tf.float32, shape=[n,d], name=\"input\")\n",
    "y = tf.placeholder(tf.float32, shape=[n, 1], name=\"output\")\n",
    "\n",
    "true_value = W\n",
    "init_value = np.random.randn(d, 1)\n",
    "w = tf.Variable(init_value, dtype=tf.float32, name=\"w\")"
   ]
  },
  {
   "cell_type": "code",
   "execution_count": 16,
   "metadata": {
    "collapsed": false,
    "nbpresent": {
     "id": "91cf6e57-2e42-4303-ba22-002ee62d18ae"
    }
   },
   "outputs": [
    {
     "name": "stdout",
     "output_type": "stream",
     "text": [
      "('init value ', array([1.51740699, 0.99888436]))\n",
      "('true value ', array([ 1.3631595, -1.4002148]))\n"
     ]
    }
   ],
   "source": [
    "print(\"init value \", init_value.reshape(-1,))\n",
    "print(\"true value \", true_value)"
   ]
  },
  {
   "cell_type": "markdown",
   "metadata": {},
   "source": [
    "### Define the model"
   ]
  },
  {
   "cell_type": "code",
   "execution_count": 17,
   "metadata": {
    "collapsed": false,
    "nbpresent": {
     "id": "1604ff46-1abc-44f9-a6df-47726f64106c"
    }
   },
   "outputs": [],
   "source": [
    "model = tf.matmul(x, w)                                      # we fit a linea model (cheating a bit)\n",
    "loss = tf.losses.mean_squared_error(y, model)                # loss function \n",
    "grad_step = 2e-3                                             # gradient step\n",
    "optimizer = tf.train.GradientDescentOptimizer(grad_step)     # optimizer\n",
    "train = optimizer.minimize(loss)                             # training\n",
    "init_op = tf.global_variables_initializer()                  # initialize all variables"
   ]
  },
  {
   "cell_type": "markdown",
   "metadata": {
    "nbpresent": {
     "id": "1ac500a5-e4eb-425b-856a-15841059e32d"
    }
   },
   "source": [
    "**tf.losses**, **tf.optimizers** modules  \n",
    "\n",
    "lots of options! Choose the one you prefer :)"
   ]
  },
  {
   "cell_type": "markdown",
   "metadata": {},
   "source": [
    "### Define what you want to visualize - NECESSARY IF YOU WANT TO USE TENSORBOARD NEXT"
   ]
  },
  {
   "cell_type": "code",
   "execution_count": 18,
   "metadata": {
    "collapsed": true
   },
   "outputs": [],
   "source": [
    "tf.summary.histogram(\"w\", w)\n",
    "tf.summary.scalar(\"loss\", loss)\n",
    "merge_summaries = tf.summary.merge_all()\n",
    "writer = tf.summary.FileWriter('./newgraph/tfmodel0')\n",
    "writer.add_graph(tf.get_default_graph())"
   ]
  },
  {
   "cell_type": "markdown",
   "metadata": {},
   "source": [
    "### Run the graph "
   ]
  },
  {
   "cell_type": "code",
   "execution_count": 19,
   "metadata": {
    "collapsed": false,
    "nbpresent": {
     "id": "24b5622a-38cc-4b13-a2cc-1cedc6bbdefa"
    }
   },
   "outputs": [],
   "source": [
    "with tf.Session() as sess:                                   # start the session - implement the graph\n",
    "    sess.run(init_op)                                        # build the variables\n",
    "    for f in range(1000):                                    # iterations: training\n",
    "        s = sess.run(merge_summaries, {x: X, y:Y.reshape(-1,1)})\n",
    "        writer.add_summary(s, f)\n",
    "        sess.run(train, {x: X, y:Y.reshape(-1,1)})           # feed the dictionary\n",
    "    w_val = sess.run(w)"
   ]
  },
  {
   "cell_type": "code",
   "execution_count": 20,
   "metadata": {
    "collapsed": false,
    "nbpresent": {
     "id": "1df92dde-5454-4a4c-ad05-cbc0e28232cd"
    }
   },
   "outputs": [
    {
     "name": "stdout",
     "output_type": "stream",
     "text": [
      "[ 0.69756216 -0.71652427]\n",
      "[[ 0.7587392 ]\n",
      " [-0.65139455]]\n"
     ]
    }
   ],
   "source": [
    "print(true_value / np.linalg.norm(true_value))  # true values\n",
    "print(w_val / np.linalg.norm(w_val))            # solution after 1k iterations"
   ]
  },
  {
   "cell_type": "markdown",
   "metadata": {
    "nbpresent": {
     "id": "b0a71ca9-f703-47b5-a631-8e41f508a50d"
    }
   },
   "source": [
    "## START TENSORBOARD\n",
    "\n",
    "Write on terminal the following, be careful to be in the same folder where you are saving the output\n",
    "\n",
    "**tensorboard --logdir=. --host localhost --port 8088**\n",
    "\n",
    "Run the session\n",
    "\n",
    "## Otherwise, there are piece of code only that allows you to visualize the graph\n",
    "\n",
    "As the following one"
   ]
  },
  {
   "cell_type": "code",
   "execution_count": 10,
   "metadata": {
    "collapsed": true,
    "nbpresent": {
     "id": "794d559a-0337-4ef3-b026-aad84cd0ce6b"
    }
   },
   "outputs": [],
   "source": [
    "from IPython.display import clear_output, Image, display, HTML\n",
    "\n",
    "def strip_consts(graph_def, max_const_size=32):\n",
    "    \"\"\"Strip large constant values from graph_def.\"\"\"\n",
    "    strip_def = tf.GraphDef()\n",
    "    for n0 in graph_def.node:\n",
    "        n = strip_def.node.add() \n",
    "        n.MergeFrom(n0)\n",
    "        if n.op == 'Const':\n",
    "            tensor = n.attr['value'].tensor\n",
    "            size = len(tensor.tensor_content)\n",
    "            if size > max_const_size:\n",
    "                tensor.tensor_content = \"<stripped %d bytes>\"%size\n",
    "    return strip_def\n",
    "\n",
    "def show_graph(graph_def, max_const_size=32):\n",
    "    \"\"\"Visualize TensorFlow graph.\"\"\"\n",
    "    if hasattr(graph_def, 'as_graph_def'):\n",
    "        graph_def = graph_def.as_graph_def()\n",
    "    strip_def = strip_consts(graph_def, max_const_size=max_const_size)\n",
    "    code = \"\"\"\n",
    "        <script>\n",
    "          function load() {{\n",
    "            document.getElementById(\"{id}\").pbtxt = {data};\n",
    "          }}\n",
    "        </script>\n",
    "        <link rel=\"import\" href=\"https://tensorboard.appspot.com/tf-graph-basic.build.html\" onload=load()>\n",
    "        <div style=\"height:600px\">\n",
    "          <tf-graph-basic id=\"{id}\"></tf-graph-basic>\n",
    "        </div>\n",
    "    \"\"\".format(data=repr(str(strip_def)), id='graph'+str(np.random.rand()))\n",
    "\n",
    "    iframe = \"\"\"\n",
    "        <iframe seamless style=\"width:1200px;height:620px;border:0\" srcdoc=\"{}\"></iframe>\n",
    "    \"\"\".format(code.replace('\"', '&quot;'))\n",
    "    display(HTML(iframe))"
   ]
  },
  {
   "cell_type": "code",
   "execution_count": null,
   "metadata": {
    "collapsed": false,
    "nbpresent": {
     "id": "f9e23cf0-84b8-478c-b45f-cf1bcc064d48"
    },
    "scrolled": true
   },
   "outputs": [],
   "source": [
    "show_graph(tf.get_default_graph().as_graph_def())"
   ]
  },
  {
   "cell_type": "markdown",
   "metadata": {
    "nbpresent": {
     "id": "b0306545-04d6-4379-bf6d-275552a43280"
    }
   },
   "source": [
    "https://stackoverflow.com/questions/38189119/simple-way-to-visualize-a-tensorflow-graph-in-jupyter/38192374#38192374"
   ]
  }
 ],
 "metadata": {
  "anaconda-cloud": {},
  "kernelspec": {
   "display_name": "Python [conda env:anaconda]",
   "language": "python",
   "name": "conda-env-anaconda-py"
  },
  "language_info": {
   "codemirror_mode": {
    "name": "ipython",
    "version": 2
   },
   "file_extension": ".py",
   "mimetype": "text/x-python",
   "name": "python",
   "nbconvert_exporter": "python",
   "pygments_lexer": "ipython2",
   "version": "2.7.14"
  },
  "nbpresent": {
   "slides": {
    "14d59d1e-7325-49d4-ae56-4aa35c47c536": {
     "id": "14d59d1e-7325-49d4-ae56-4aa35c47c536",
     "prev": null,
     "regions": {
      "1f6d3d8b-584d-45d7-901c-ac712b36f39f": {
       "attrs": {
        "height": 1,
        "width": 1,
        "x": 0,
        "y": 0
       },
       "id": "1f6d3d8b-584d-45d7-901c-ac712b36f39f"
      }
     }
    },
    "302f9e40-9d9a-4c72-b105-a6e64976c5da": {
     "id": "302f9e40-9d9a-4c72-b105-a6e64976c5da",
     "prev": "637f63a3-42fe-4b83-84cb-59aa7cdc0766",
     "regions": {
      "95909ba1-2b35-43f2-83a0-9c43878c23fb": {
       "attrs": {
        "height": 1,
        "width": 1,
        "x": 0,
        "y": 0
       },
       "content": {
        "cell": "4bfa60e0-8924-447e-b2b9-7bcf3ba082de",
        "part": "source"
       },
       "id": "95909ba1-2b35-43f2-83a0-9c43878c23fb"
      }
     }
    },
    "637f63a3-42fe-4b83-84cb-59aa7cdc0766": {
     "id": "637f63a3-42fe-4b83-84cb-59aa7cdc0766",
     "prev": "14d59d1e-7325-49d4-ae56-4aa35c47c536",
     "regions": {
      "074f9f23-6c66-4914-a63d-9c35f14066b4": {
       "attrs": {
        "height": 1,
        "width": 1,
        "x": 0,
        "y": 0
       },
       "content": {
        "cell": "b3128549-a4fa-4cba-8e93-c60d88755452",
        "part": "source"
       },
       "id": "074f9f23-6c66-4914-a63d-9c35f14066b4"
      }
     }
    }
   },
   "themes": {}
  }
 },
 "nbformat": 4,
 "nbformat_minor": 1
}
